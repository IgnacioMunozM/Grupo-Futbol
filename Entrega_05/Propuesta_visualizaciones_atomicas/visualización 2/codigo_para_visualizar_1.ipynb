{
  "cells": [
    {
      "cell_type": "code",
      "execution_count": null,
      "metadata": {
        "id": "dfLHcNq4wfO-"
      },
      "outputs": [],
      "source": []
    },
    {
      "cell_type": "code",
      "execution_count": 66,
      "metadata": {
        "colab": {
          "base_uri": "https://localhost:8080/",
          "height": 501
        },
        "id": "kPF8Zog6SyDn",
        "outputId": "abce5b0a-af30-4faa-9819-f3c01a291cbf"
      },
      "outputs": [
        {
          "data": {
            "text/html": [
              "\n",
              "<div id=\"altair-viz-427c195c9cb24a1093d0eb76df0c3c1a\"></div>\n",
              "<script type=\"text/javascript\">\n",
              "  var VEGA_DEBUG = (typeof VEGA_DEBUG == \"undefined\") ? {} : VEGA_DEBUG;\n",
              "  (function(spec, embedOpt){\n",
              "    let outputDiv = document.currentScript.previousElementSibling;\n",
              "    if (outputDiv.id !== \"altair-viz-427c195c9cb24a1093d0eb76df0c3c1a\") {\n",
              "      outputDiv = document.getElementById(\"altair-viz-427c195c9cb24a1093d0eb76df0c3c1a\");\n",
              "    }\n",
              "    const paths = {\n",
              "      \"vega\": \"https://cdn.jsdelivr.net/npm//vega@5?noext\",\n",
              "      \"vega-lib\": \"https://cdn.jsdelivr.net/npm//vega-lib?noext\",\n",
              "      \"vega-lite\": \"https://cdn.jsdelivr.net/npm//vega-lite@4.17.0?noext\",\n",
              "      \"vega-embed\": \"https://cdn.jsdelivr.net/npm//vega-embed@6?noext\",\n",
              "    };\n",
              "\n",
              "    function maybeLoadScript(lib, version) {\n",
              "      var key = `${lib.replace(\"-\", \"\")}_version`;\n",
              "      return (VEGA_DEBUG[key] == version) ?\n",
              "        Promise.resolve(paths[lib]) :\n",
              "        new Promise(function(resolve, reject) {\n",
              "          var s = document.createElement('script');\n",
              "          document.getElementsByTagName(\"head\")[0].appendChild(s);\n",
              "          s.async = true;\n",
              "          s.onload = () => {\n",
              "            VEGA_DEBUG[key] = version;\n",
              "            return resolve(paths[lib]);\n",
              "          };\n",
              "          s.onerror = () => reject(`Error loading script: ${paths[lib]}`);\n",
              "          s.src = paths[lib];\n",
              "        });\n",
              "    }\n",
              "\n",
              "    function showError(err) {\n",
              "      outputDiv.innerHTML = `<div class=\"error\" style=\"color:red;\">${err}</div>`;\n",
              "      throw err;\n",
              "    }\n",
              "\n",
              "    function displayChart(vegaEmbed) {\n",
              "      vegaEmbed(outputDiv, spec, embedOpt)\n",
              "        .catch(err => showError(`Javascript Error: ${err.message}<br>This usually means there's a typo in your chart specification. See the javascript console for the full traceback.`));\n",
              "    }\n",
              "\n",
              "    if(typeof define === \"function\" && define.amd) {\n",
              "      requirejs.config({paths});\n",
              "      require([\"vega-embed\"], displayChart, err => showError(`Error loading script: ${err.message}`));\n",
              "    } else {\n",
              "      maybeLoadScript(\"vega\", \"5\")\n",
              "        .then(() => maybeLoadScript(\"vega-lite\", \"4.17.0\"))\n",
              "        .then(() => maybeLoadScript(\"vega-embed\", \"6\"))\n",
              "        .catch(showError)\n",
              "        .then(() => displayChart(vegaEmbed));\n",
              "    }\n",
              "  })({\"config\": {\"view\": {\"continuousWidth\": 400, \"continuousHeight\": 300, \"height\": 400, \"width\": 600}, \"axis\": {\"labelFontSize\": 12, \"titleFontSize\": 14}}, \"data\": {\"name\": \"data-3abd3fdd6dd0dfbb3eaba5cea4668c17\"}, \"mark\": {\"type\": \"bar\", \"color\": \"red\"}, \"encoding\": {\"tooltip\": [{\"field\": \"A\\u00f1o\", \"type\": \"quantitative\"}, {\"field\": \"Fase\", \"type\": \"nominal\"}, {\"field\": \"Posici\\u00f3n\", \"type\": \"quantitative\"}, {\"field\": \"Partidos Jugados\", \"type\": \"quantitative\"}, {\"field\": \"Diferencia de gol\", \"type\": \"quantitative\"}], \"x\": {\"field\": \"A\\u00f1o\", \"scale\": {\"paddingInner\": 0.2}, \"title\": \"A\\u00f1o de Campeonato Sudamericano\", \"type\": \"ordinal\"}, \"y\": {\"field\": \"Fase\", \"sort\": [\"Clasificaci\\u00f3n al Mundial\", \"Hexagonal Final\", \"Fase de Grupos\"], \"title\": \"Fase alcanzada\", \"type\": \"nominal\"}}, \"title\": \"Rendimiento de la Selecci\\u00f3n Chilena Sub 20 en Campeonatos Sudamericanos\", \"$schema\": \"https://vega.github.io/schema/vega-lite/v4.17.0.json\", \"datasets\": {\"data-3abd3fdd6dd0dfbb3eaba5cea4668c17\": [{\"Fase\": \"Clasificaci\\u00f3n al Mundial\", \"A\\u00f1o\": 2007, \"Posici\\u00f3n\": 4, \"Diferencia de gol\": 9, \"Partidos Jugados\": 9}, {\"Fase\": \"Hexagonal Final\", \"A\\u00f1o\": 2007, \"Posici\\u00f3n\": 4, \"Diferencia de gol\": 9, \"Partidos Jugados\": 9}, {\"Fase\": \"Fase de Grupos\", \"A\\u00f1o\": 2007, \"Posici\\u00f3n\": 4, \"Diferencia de gol\": 9, \"Partidos Jugados\": 9}, {\"Fase\": \"Fase de Grupos\", \"A\\u00f1o\": 2009, \"Posici\\u00f3n\": 8, \"Diferencia de gol\": -2, \"Partidos Jugados\": 4}, {\"Fase\": \"Hexagonal Final\", \"A\\u00f1o\": 2011, \"Posici\\u00f3n\": 5, \"Diferencia de gol\": -7, \"Partidos Jugados\": 9}, {\"Fase\": \"Fase de Grupos\", \"A\\u00f1o\": 2011, \"Posici\\u00f3n\": 5, \"Diferencia de gol\": -7, \"Partidos Jugados\": 9}, {\"Fase\": \"Clasificaci\\u00f3n al Mundial\", \"A\\u00f1o\": 2013, \"Posici\\u00f3n\": 4, \"Diferencia de gol\": 6, \"Partidos Jugados\": 9}, {\"Fase\": \"Hexagonal Final\", \"A\\u00f1o\": 2013, \"Posici\\u00f3n\": 4, \"Diferencia de gol\": 6, \"Partidos Jugados\": 9}, {\"Fase\": \"Fase de Grupos\", \"A\\u00f1o\": 2013, \"Posici\\u00f3n\": 4, \"Diferencia de gol\": 6, \"Partidos Jugados\": 9}, {\"Fase\": \"Fase de Grupos\", \"A\\u00f1o\": 2015, \"Posici\\u00f3n\": 9, \"Diferencia de gol\": -7, \"Partidos Jugados\": 4}, {\"Fase\": \"Fase de Grupos\", \"A\\u00f1o\": 2017, \"Posici\\u00f3n\": 9, \"Diferencia de gol\": -2, \"Partidos Jugados\": 4}, {\"Fase\": \"Fase de Grupos\", \"A\\u00f1o\": 2019, \"Posici\\u00f3n\": 7, \"Diferencia de gol\": -1, \"Partidos Jugados\": 4}, {\"Fase\": \"Fase de Grupos\", \"A\\u00f1o\": 2023, \"Posici\\u00f3n\": 7, \"Diferencia de gol\": -3, \"Partidos Jugados\": 4}]}}, {\"mode\": \"vega-lite\"});\n",
              "</script>"
            ],
            "text/plain": [
              "alt.Chart(...)"
            ]
          },
          "execution_count": 66,
          "metadata": {},
          "output_type": "execute_result"
        }
      ],
      "source": [
        "import pandas as pd\n",
        "import altair as alt\n",
        "\n",
        "# Crear un DataFrame con los datos\n",
        "data = {\n",
        "    'Año': [2007, 2009, 2011, 2013, 2015, 2017, 2019, 2023],\n",
        "    'Fase': ['Clasificación al Mundial', 'Fase de Grupos', 'Hexagonal Final', 'Clasificación al Mundial',\n",
        "             'Fase de Grupos', 'Fase de Grupos', 'Fase de Grupos', 'Fase de Grupos'],\n",
        "    'Posición': [4, 8, 5, 4, 9, 9, 7, 7],  # Posición en la tabla para cada año y fase\n",
        "    'Diferencia de gol': [+9, -2, -7, +6, -7, -2, -1, -3],  # Diferencia de gol para cada año\n",
        "    'Partidos Jugados': [9, 4, 9, 9, 4, 4, 4, 4]  # Partidos jugados para cada año\n",
        "}\n",
        "df = pd.DataFrame(data)\n",
        "\n",
        "# Definir el orden de las fases según la jerarquía\n",
        "orden_fases = ['Clasificación al Mundial', 'Hexagonal Final', 'Fase de Grupos']\n",
        "\n",
        "# Filtrar los años a mostrar\n",
        "años_mostrar = [2007, 2009, 2011, 2013, 2015, 2017, 2019, 2023]\n",
        "df = df[df['Año'].isin(años_mostrar)]\n",
        "\n",
        "# Ordenar las fases dentro de cada año\n",
        "df['Orden_Fase'] = df['Fase'].apply(lambda x: orden_fases.index(x))\n",
        "\n",
        "# Preparar los datos para el gráfico de barras\n",
        "df_plot = []\n",
        "for index, row in df.iterrows():\n",
        "    if row['Fase'] == 'Clasificación al Mundial':\n",
        "        # Si llegó a la Clasificación al Mundial, abarcar también Hexagonal Final y Fase de Grupos\n",
        "        df_plot.append({'Fase': 'Clasificación al Mundial', 'Año': row['Año'], 'Posición': row['Posición'], 'Diferencia de gol': row['Diferencia de gol'], 'Partidos Jugados': row['Partidos Jugados']})\n",
        "        df_plot.append({'Fase': 'Hexagonal Final', 'Año': row['Año'], 'Posición': row['Posición'], 'Diferencia de gol': row['Diferencia de gol'], 'Partidos Jugados': row['Partidos Jugados']})\n",
        "        df_plot.append({'Fase': 'Fase de Grupos', 'Año': row['Año'], 'Posición': row['Posición'], 'Diferencia de gol': row['Diferencia de gol'], 'Partidos Jugados': row['Partidos Jugados']})\n",
        "    elif row['Fase'] == 'Hexagonal Final':\n",
        "        # Si llegó al Hexagonal Final, abarcar también Fase de Grupos\n",
        "        df_plot.append({'Fase': 'Hexagonal Final', 'Año': row['Año'], 'Posición': row['Posición'], 'Diferencia de gol': row['Diferencia de gol'], 'Partidos Jugados': row['Partidos Jugados']})\n",
        "        df_plot.append({'Fase': 'Fase de Grupos', 'Año': row['Año'], 'Posición': row['Posición'], 'Diferencia de gol': row['Diferencia de gol'], 'Partidos Jugados': row['Partidos Jugados']})\n",
        "    else:\n",
        "        df_plot.append({'Fase': row['Fase'], 'Año': row['Año'], 'Posición': row['Posición'], 'Diferencia de gol': row['Diferencia de gol'], 'Partidos Jugados': row['Partidos Jugados']})\n",
        "\n",
        "df_plot = pd.DataFrame(df_plot)\n",
        "\n",
        "# Crear el gráfico de barras con Altair\n",
        "chart = alt.Chart(df_plot).mark_bar(color='red').encode(  # Establecer el color de las barras a rojo\n",
        "    x=alt.X('Año:O', title='Año de Campeonato Sudamericano', scale=alt.Scale(paddingInner=0.2)),  # Ajustar la separación entre barras\n",
        "    y=alt.Y('Fase:N', title='Fase alcanzada', sort=orden_fases),\n",
        "    tooltip=['Año', 'Fase', 'Posición:Q', 'Partidos Jugados:Q', 'Diferencia de gol:Q']  # Agregar 'Partidos Jugados' antes de 'Diferencia de gol'\n",
        ").properties(\n",
        "    title='Rendimiento de la Selección Chilena Sub 20 en Campeonatos Sudamericanos'\n",
        ").configure_axis(\n",
        "    labelFontSize=12,  # Tamaño de fuente de las etiquetas del eje\n",
        "    titleFontSize=14  # Tamaño de fuente del título del eje\n",
        ").configure_view(\n",
        "    width=600,  # Ancho del gráfico en píxeles\n",
        "    height=400  # Alto del gráfico en píxeles\n",
        ")\n",
        "\n",
        "chart\n",
        "\n",
        "\n",
        "\n",
        "\n",
        "\n",
        "\n",
        "\n",
        "\n"
      ]
    },
    {
      "cell_type": "markdown",
      "metadata": {
        "id": "3kiYw76z6Ycn"
      },
      "source": [
        "El año 2007, la selección chilena sub 20 participó del campeonato sudamericano de la categoría. En el equipo nacional, participaron grandes figuras de la generación dorada, los cuales posteriormente quedarían en la historia del deporte chileno. En aquel campeonato, Chile lograría la clasificación al mundial de la categoría en Canadá.\n",
        "\n",
        "Desde ese campeonato, la selección ha participado en siete ocasiones en sudamericanos sub 20. En cinco ocasiones ni siquiera consiguió superar la fase de grupos. Tan solo en uno logró repetir la hazaña de clasificar al mundial (2013), pero los jugadores de ese equipo no darían el salto ni serían parte importante de la selección adulta. Desde el gran resultado que tuvo la generación dorada en 2007, no se pudo lograr una regularidad en el rendimiento, teniendo pésimas participaciones a nivel sudamericano y con tan solo una participación anormal, la cual posteriormente quedaría en el olvido."
      ]
    }
  ],
  "metadata": {
    "colab": {
      "provenance": []
    },
    "kernelspec": {
      "display_name": "Python 3",
      "name": "python3"
    },
    "language_info": {
      "name": "python"
    }
  },
  "nbformat": 4,
  "nbformat_minor": 0
}
