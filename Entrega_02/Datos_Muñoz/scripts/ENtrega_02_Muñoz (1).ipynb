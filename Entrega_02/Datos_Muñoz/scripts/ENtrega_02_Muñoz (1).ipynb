{
  "cells": [
    {
      "cell_type": "code",
      "execution_count": 13,
      "metadata": {
        "id": "sJwqFoMolUn9"
      },
      "outputs": [],
      "source": [
        "import pandas as pd"
      ]
    },
    {
      "cell_type": "code",
      "execution_count": 34,
      "metadata": {
        "id": "VWRc3uqHBqNM"
      },
      "outputs": [],
      "source": [
        "import csv"
      ]
    },
    {
      "cell_type": "markdown",
      "metadata": {
        "id": "kJmxLguYsb7T"
      },
      "source": [
        "# Datos Grupo Fútbol"
      ]
    },
    {
      "cell_type": "markdown",
      "metadata": {
        "id": "3lNmJONWsi0y"
      },
      "source": [
        "## Equipos chilenos (cantidad) clasificados a octavos de final en Copa Libertadores"
      ]
    },
    {
      "cell_type": "code",
      "execution_count": 17,
      "metadata": {
        "id": "7gDs-Wbqsy75"
      },
      "outputs": [
        {
          "name": "stdout",
          "output_type": "stream",
          "text": [
            "     Año / Cantidad de equipos\n",
            "0   2000                     0\n",
            "1   2001                     2\n",
            "2   2002                     2\n",
            "3   2003                     1\n",
            "4   2004                     0\n",
            "5   2005                     1\n",
            "6   2006                     0\n",
            "7   2007                     1\n",
            "8   2008                     0\n",
            "9   2009                     1\n",
            "10  2010                     1\n",
            "11  2011                     1\n",
            "12  2012                     2\n",
            "13  2013                     0\n",
            "14  2014                     1\n",
            "15  2015                     0\n",
            "16  2016                     0\n",
            "17  2017                     0\n",
            "18  2018                     1\n",
            "19  2019                     0\n",
            "20  2020                     0\n",
            "21  2021                     1\n",
            "22  2022                     0\n",
            "23  2023                     0\n"
          ]
        }
      ],
      "source": [
        "import pandas as pd\n",
        "\n",
        "dato1 = {\n",
        "    'Año': ['2000', '2001','2002','2003','2004', '2005', '2006','2007', '2008', '2009','2010', '2011','2012','2013','2014', '2015', '2016','2017', '2018', '2019','2020','2021','2022','2023'],\n",
        "    '/ Cantidad de equipos': ['0', '2','2','1','0', '1', '0','1', '0', '1','1', '1','2','0','1', '0', '0','0', '1', '0','0','1','0','0']\n",
        "}\n",
        "\n",
        "df = pd.DataFrame(dato1)\n",
        "\n",
        "print(df)"
      ]
    },
    {
      "cell_type": "code",
      "execution_count": 18,
      "metadata": {},
      "outputs": [],
      "source": [
        "df.to_csv('dataframe1.csv', index=False)"
      ]
    },
    {
      "cell_type": "markdown",
      "metadata": {
        "id": "85eSIZcp1arI"
      },
      "source": [
        "## Resultados de equipos chilenos en Copa Libertadores"
      ]
    },
    {
      "cell_type": "code",
      "execution_count": 27,
      "metadata": {},
      "outputs": [
        {
          "name": "stdout",
          "output_type": "stream",
          "text": [
            "Collecting lxml\n",
            "  Downloading lxml-5.2.1-cp311-cp311-win_amd64.whl.metadata (3.5 kB)\n",
            "Downloading lxml-5.2.1-cp311-cp311-win_amd64.whl (3.8 MB)\n",
            "   ---------------------------------------- 0.0/3.8 MB ? eta -:--:--\n",
            "   ---------------------------------------- 0.0/3.8 MB ? eta -:--:--\n",
            "   ---------------------------------------- 0.0/3.8 MB 660.6 kB/s eta 0:00:06\n",
            "   --- ------------------------------------ 0.3/3.8 MB 3.4 MB/s eta 0:00:02\n",
            "   ------------ --------------------------- 1.2/3.8 MB 8.3 MB/s eta 0:00:01\n",
            "   -------------------- ------------------- 2.0/3.8 MB 10.5 MB/s eta 0:00:01\n",
            "   ----------------------------- ---------- 2.8/3.8 MB 12.0 MB/s eta 0:00:01\n",
            "   -------------------------------------- - 3.7/3.8 MB 13.1 MB/s eta 0:00:01\n",
            "   ---------------------------------------- 3.8/3.8 MB 11.6 MB/s eta 0:00:00\n",
            "Installing collected packages: lxml\n",
            "Successfully installed lxml-5.2.1\n",
            "Note: you may need to restart the kernel to use updated packages.\n"
          ]
        }
      ],
      "source": [
        "pip install lxml"
      ]
    },
    {
      "cell_type": "code",
      "execution_count": 31,
      "metadata": {
        "id": "JYjbS7aBzJRX"
      },
      "outputs": [
        {
          "name": "stdout",
          "output_type": "stream",
          "text": [
            "    Pos Ch  Pos Lib                     Equipo  Temporadas  Títulos   PJ  PG  \\\n",
            "0      1.0     11.0                  Colo-Colo          36        1  253  98   \n",
            "1      2.0     14.0       Universidad Católica          29        0  236  88   \n",
            "2      3.0     31.0       Universidad de Chile          25        0  163  57   \n",
            "3      4.0     45.0                   Cobreloa          13        0  105  39   \n",
            "4      5.0     48.0             Unión Española          13        0   95  33   \n",
            "5      6.0     67.0                  Palestino           6        0   44  14   \n",
            "6      7.0     98.0             Audax Italiano           3        0   16   7   \n",
            "7      8.0     99.0         Santiago Wanderers           3        0   22   7   \n",
            "8      9.0    106.0                  O'Higgins           4        0   28   5   \n",
            "9     10.0    118.0                    Everton           3        0   16   5   \n",
            "10    11.0    126.0           Deportes Iquique           2        0   14   4   \n",
            "11    12.0    131.0                 Huachipato           2        0   12   4   \n",
            "12    13.0    135.0        Deportes Concepción           2        0   16   4   \n",
            "13    14.0    143.0                 Magallanes           2        0   10   4   \n",
            "14    15.0    153.0                   Cobresal           2        0   12   2   \n",
            "15    16.0    162.0  Universidad de Concepción           3        0   14   1   \n",
            "16    17.0    184.0                   Ñublense           1        0    6   1   \n",
            "17    18.0    190.0           Unión San Felipe           1        0    6   1   \n",
            "18    19.0    205.0             Coquimbo Unido           1        0    8   1   \n",
            "19    20.0    206.0                    Rangers           1        0   10   1   \n",
            "20    21.0    213.0            Unión La Calera           1        0    6   0   \n",
            "21    22.0    227.0               Curicó Unido           1        0    2   0   \n",
            "\n",
            "    PE  PP   GF   GC  DIF  Puntos  \n",
            "0   58  97  348  352   -4     297  \n",
            "1   59  89  348  343    5     279  \n",
            "2   37  69  201  239  -38     188  \n",
            "3   32  34  134  122   12     123  \n",
            "4   29  33  115  128  -13     108  \n",
            "5   12  18   59   52    7      47  \n",
            "6    3   6   19   21   -2      24  \n",
            "7    7   8   29   34   -5      24  \n",
            "8   10  13   27   37  -10      21  \n",
            "9    3   8   17   21   -4      16  \n",
            "10   3   7   19   24   -5      15  \n",
            "11   4   4   20   18    2      14  \n",
            "12   4   8   18   26   -8      14  \n",
            "13   2   4   12   12    0      12  \n",
            "14   5   5   10   19   -9      10  \n",
            "15   5   8   16   33  -17       8  \n",
            "16   2   3    3   10   -7       5  \n",
            "17   2   3    5    8   -3       4  \n",
            "18   1   6    6   18  -12       3  \n",
            "19   1   8   11   27  -16       3  \n",
            "20   2   4    8   17   -9       2  \n",
            "21   0   2    0    2   -2       0  \n"
          ]
        }
      ],
      "source": [
        "import pandas as pd\n",
        "\n",
        "url = 'https://es.wikipedia.org/wiki/Anexo:Clubes_chilenos_en_torneos_internacionales_de_f%C3%BAtbol'\n",
        "\n",
        "tabla = pd.read_html(url)\n",
        "\n",
        "dato2 = tabla[5]\n",
        "\n",
        "df2 = pd.DataFrame(dato2)\n",
        "\n",
        "print(df2)\n",
        "\n",
        "\n",
        "\n"
      ]
    },
    {
      "cell_type": "code",
      "execution_count": 32,
      "metadata": {},
      "outputs": [],
      "source": [
        "df2.to_csv('dataframe2.csv', index=False)"
      ]
    }
  ],
  "metadata": {
    "colab": {
      "provenance": []
    },
    "kernelspec": {
      "display_name": "Python 3",
      "name": "python3"
    },
    "language_info": {
      "codemirror_mode": {
        "name": "ipython",
        "version": 3
      },
      "file_extension": ".py",
      "mimetype": "text/x-python",
      "name": "python",
      "nbconvert_exporter": "python",
      "pygments_lexer": "ipython3",
      "version": "3.11.9"
    }
  },
  "nbformat": 4,
  "nbformat_minor": 0
}
