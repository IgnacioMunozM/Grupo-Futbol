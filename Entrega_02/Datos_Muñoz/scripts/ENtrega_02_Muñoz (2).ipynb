{
  "cells": [
    {
      "cell_type": "code",
      "execution_count": 2,
      "metadata": {
        "id": "sJwqFoMolUn9"
      },
      "outputs": [],
      "source": [
        "import pandas as pd"
      ]
    },
    {
      "cell_type": "code",
      "execution_count": 3,
      "metadata": {
        "id": "VWRc3uqHBqNM"
      },
      "outputs": [],
      "source": [
        "import csv"
      ]
    },
    {
      "cell_type": "markdown",
      "metadata": {
        "id": "kJmxLguYsb7T"
      },
      "source": [
        "# Datos Grupo Fútbol"
      ]
    },
    {
      "cell_type": "markdown",
      "metadata": {
        "id": "3lNmJONWsi0y"
      },
      "source": [
        "## Equipos chilenos (cantidad) clasificados a octavos de final en Copa Libertadores"
      ]
    },
    {
      "cell_type": "code",
      "execution_count": null,
      "metadata": {
        "id": "7gDs-Wbqsy75"
      },
      "outputs": [],
      "source": [
        "data = {\n",
        "    'Año': ['2000', '2001','2002','2003','2004', '2005', '2006','2007', '2008', '2009','2010', '2011','2012','2013','2014', '2015', '2016','2017', '2018', '2019','2020','2021','2022','2023'],\n",
        "    '/ Cantidad de equipos': ['0', '2','2','1','0', '1', '0','1', '0', '1','1', '1','2','0','1', '0', '0','0', '1', '0','0','1','0','0']\n",
        "}\n",
        "\n",
        "dato1 = pd.DataFrame(data)\n",
        "\n",
        "print(dato1)"
      ]
    },
    {
      "cell_type": "code",
      "execution_count": 1,
      "metadata": {},
      "outputs": [
        {
          "name": "stdout",
          "output_type": "stream",
          "text": [
            "Requirement already satisfied: lxml in c:\\users\\nacho\\appdata\\local\\packages\\pythonsoftwarefoundation.python.3.11_qbz5n2kfra8p0\\localcache\\local-packages\\python311\\site-packages (5.2.1)\n",
            "Note: you may need to restart the kernel to use updated packages.\n"
          ]
        }
      ],
      "source": [
        "pip install lxml"
      ]
    },
    {
      "cell_type": "markdown",
      "metadata": {
        "id": "85eSIZcp1arI"
      },
      "source": [
        "## Resultados de equipos chilenos en Copa Libertadores"
      ]
    },
    {
      "cell_type": "code",
      "execution_count": 41,
      "metadata": {
        "colab": {
          "base_uri": "https://localhost:8080/"
        },
        "id": "JYjbS7aBzJRX",
        "outputId": "c7534f3e-44ce-47c6-8181-a2ca6eb92df9"
      },
      "outputs": [
        {
          "name": "stdout",
          "output_type": "stream",
          "text": [
            "    Pos Ch  Pos Lib                     Equipo  Temporadas  Títulos   PJ  PG  \\\n",
            "0      1.0     11.0                  Colo-Colo          36        1  253  98   \n",
            "1      2.0     14.0       Universidad Católica          29        0  236  88   \n",
            "2      3.0     31.0       Universidad de Chile          25        0  163  57   \n",
            "3      4.0     45.0                   Cobreloa          13        0  105  39   \n",
            "4      5.0     48.0             Unión Española          13        0   95  33   \n",
            "5      6.0     67.0                  Palestino           6        0   44  14   \n",
            "6      7.0     98.0             Audax Italiano           3        0   16   7   \n",
            "7      8.0     99.0         Santiago Wanderers           3        0   22   7   \n",
            "8      9.0    106.0                  O'Higgins           4        0   28   5   \n",
            "9     10.0    118.0                    Everton           3        0   16   5   \n",
            "10    11.0    126.0           Deportes Iquique           2        0   14   4   \n",
            "11    12.0    131.0                 Huachipato           2        0   12   4   \n",
            "12    13.0    135.0        Deportes Concepción           2        0   16   4   \n",
            "13    14.0    143.0                 Magallanes           2        0   10   4   \n",
            "14    15.0    153.0                   Cobresal           2        0   12   2   \n",
            "15    16.0    162.0  Universidad de Concepción           3        0   14   1   \n",
            "16    17.0    184.0                   Ñublense           1        0    6   1   \n",
            "17    18.0    190.0           Unión San Felipe           1        0    6   1   \n",
            "18    19.0    205.0             Coquimbo Unido           1        0    8   1   \n",
            "19    20.0    206.0                    Rangers           1        0   10   1   \n",
            "20    21.0    213.0            Unión La Calera           1        0    6   0   \n",
            "21    22.0    227.0               Curicó Unido           1        0    2   0   \n",
            "\n",
            "    PE  PP   GF   GC  DIF  Puntos  \n",
            "0   58  97  348  352   -4     297  \n",
            "1   59  89  348  343    5     279  \n",
            "2   37  69  201  239  -38     188  \n",
            "3   32  34  134  122   12     123  \n",
            "4   29  33  115  128  -13     108  \n",
            "5   12  18   59   52    7      47  \n",
            "6    3   6   19   21   -2      24  \n",
            "7    7   8   29   34   -5      24  \n",
            "8   10  13   27   37  -10      21  \n",
            "9    3   8   17   21   -4      16  \n",
            "10   3   7   19   24   -5      15  \n",
            "11   4   4   20   18    2      14  \n",
            "12   4   8   18   26   -8      14  \n",
            "13   2   4   12   12    0      12  \n",
            "14   5   5   10   19   -9      10  \n",
            "15   5   8   16   33  -17       8  \n",
            "16   2   3    3   10   -7       5  \n",
            "17   2   3    5    8   -3       4  \n",
            "18   1   6    6   18  -12       3  \n",
            "19   1   8   11   27  -16       3  \n",
            "20   2   4    8   17   -9       2  \n",
            "21   0   2    0    2   -2       0  \n"
          ]
        }
      ],
      "source": [
        "url = 'https://es.wikipedia.org/wiki/Anexo:Clubes_chilenos_en_torneos_internacionales_de_f%C3%BAtbol'\n",
        "\n",
        "tabla = pd.read_html(url)\n",
        "\n",
        "dato2 = tabla[5]\n",
        "\n",
        "print(dato2)"
      ]
    },
    {
      "cell_type": "markdown",
      "metadata": {
        "id": "5uwCV-gjTz7g"
      },
      "source": [
        "## Campeones consecutivos del campeonato nacional"
      ]
    },
    {
      "cell_type": "code",
      "execution_count": 4,
      "metadata": {
        "colab": {
          "base_uri": "https://localhost:8080/"
        },
        "id": "N359x46nT4H1",
        "outputId": "16a350b5-d1a9-467d-d9e6-3028c989b9b0"
      },
      "outputs": [
        {
          "name": "stdout",
          "output_type": "stream",
          "text": [
            "  Tetracampeonatos                                                            \n",
            "       Campeonatos                  Club Veces                    Años campeón\n",
            "0              NaN             Colo-Colo     1  A-2006, C-2006, A-2007, C-2007\n",
            "1              NaN  Universidad Católica     1          2018, 2019, 2020, 2021\n"
          ]
        }
      ],
      "source": [
        "url = 'https://es.wikipedia.org/wiki/Primera_Divisi%C3%B3n_de_Chile#R%C3%A9cords'\n",
        "\n",
        "tabla = pd.read_html(url)\n",
        "\n",
        "dato3 = tabla[18]\n",
        "\n",
        "df3 = pd.DataFrame(dato3)\n",
        "\n",
        "print(df3)"
      ]
    },
    {
      "cell_type": "code",
      "execution_count": 5,
      "metadata": {},
      "outputs": [],
      "source": [
        "df3.to_csv('dataframe3.csv', index=False)"
      ]
    },
    {
      "cell_type": "code",
      "execution_count": 6,
      "metadata": {
        "colab": {
          "base_uri": "https://localhost:8080/"
        },
        "id": "Aye9wA6CVvCo",
        "outputId": "394d0eb8-08a3-4603-b15c-3bda013dbc09"
      },
      "outputs": [
        {
          "name": "stdout",
          "output_type": "stream",
          "text": [
            "  Tricampeonatos                                                    \n",
            "     Campeonatos                  Club Veces            Años campeón\n",
            "0            NaN            Magallanes     1        1933, 1934, 1935\n",
            "1            NaN             Colo-Colo     1        1989, 1990, 1991\n",
            "2            NaN  Universidad de Chile     1  A-2011, C-2011, A-2012\n"
          ]
        }
      ],
      "source": [
        "url = 'https://es.wikipedia.org/wiki/Primera_Divisi%C3%B3n_de_Chile#R%C3%A9cords'\n",
        "\n",
        "tabla = pd.read_html(url)\n",
        "\n",
        "dato4 = tabla[19]\n",
        "\n",
        "df4 = pd.DataFrame(dato4)\n",
        "\n",
        "print(df4)"
      ]
    },
    {
      "cell_type": "code",
      "execution_count": 7,
      "metadata": {},
      "outputs": [],
      "source": [
        "df4.to_csv('dataframe4.csv', index=False)"
      ]
    },
    {
      "cell_type": "code",
      "execution_count": 8,
      "metadata": {
        "colab": {
          "base_uri": "https://localhost:8080/"
        },
        "id": "63lQgppVVzyD",
        "outputId": "be812582-8feb-4394-d867-93668c3f726a"
      },
      "outputs": [
        {
          "name": "stdout",
          "output_type": "stream",
          "text": [
            "  Bicampeonatos                              \\\n",
            "    Campeonatos                  Club Veces   \n",
            "0           NaN  Universidad de Chile     3   \n",
            "1           NaN             Colo-Colo     1   \n",
            "2           NaN              Cobreloa     1   \n",
            "3           NaN  Universidad Católica     1   \n",
            "\n",
            "                                         \n",
            "                           Años campeón  \n",
            "0  1964, 1965 – 1994, 1995 – 1999, 2000  \n",
            "1                          C-1997, 1998  \n",
            "2                        A-2003, C-2003  \n",
            "3                        C-2016, A-2016  \n"
          ]
        }
      ],
      "source": [
        "url = 'https://es.wikipedia.org/wiki/Primera_Divisi%C3%B3n_de_Chile#R%C3%A9cords'\n",
        "\n",
        "tabla = pd.read_html(url)\n",
        "\n",
        "dato5 = tabla[20]\n",
        "\n",
        "df5 = pd.DataFrame(dato5)\n",
        "\n",
        "print(df5)"
      ]
    },
    {
      "cell_type": "code",
      "execution_count": 9,
      "metadata": {},
      "outputs": [],
      "source": [
        "df5.to_csv('dataframe5.csv', index=False)"
      ]
    },
    {
      "cell_type": "markdown",
      "metadata": {
        "id": "OSf-g82DWIvj"
      },
      "source": [
        "## Campeones y subcampeones campeonato nacional"
      ]
    },
    {
      "cell_type": "code",
      "execution_count": 10,
      "metadata": {
        "colab": {
          "base_uri": "https://localhost:8080/"
        },
        "id": "s5xZE0AAWMe6",
        "outputId": "ed020086-a86b-411f-c7e7-4a1a2155d17a"
      },
      "outputs": [
        {
          "name": "stdout",
          "output_type": "stream",
          "text": [
            "      Año                    Campeón       Subcampeón  \\\n",
            "0    1933             Magallanes (1)        Colo-Colo   \n",
            "1    1934             Magallanes (2)   Audax Italiano   \n",
            "2    1935             Magallanes (3)   Audax Italiano   \n",
            "3    1936         Audax Italiano (1)       Magallanes   \n",
            "4    1937              Colo-Colo (1)       Magallanes   \n",
            "..    ...                        ...              ...   \n",
            "102  2019  Universidad Católica (14)        Colo-Colo   \n",
            "103  2020  Universidad Católica (15)  Unión La Calera   \n",
            "104  2021  Universidad Católica (16)        Colo-Colo   \n",
            "105  2022             Colo-Colo (33)         Ñublense   \n",
            "106  2023             Huachipato (3)         Cobresal   \n",
            "\n",
            "                                                 Notas  Unnamed: 4  \n",
            "0                       Primer campeonato profesional.         NaN  \n",
            "1                                     Campeón invicto.         NaN  \n",
            "2                            Primer equipo tricampeón.         NaN  \n",
            "3                                                  NaN         NaN  \n",
            "4                                     Campeón invicto.         NaN  \n",
            "..                                                 ...         ...  \n",
            "102    Torneo suspendido por el Estallido social 2019.         NaN  \n",
            "103                    Torneo en Pandemia de COVID-19.         NaN  \n",
            "104  Primer equipo tetracampeón de torneos largos (...         NaN  \n",
            "105                                                NaN         NaN  \n",
            "106                                                NaN         NaN  \n",
            "\n",
            "[107 rows x 5 columns]\n"
          ]
        }
      ],
      "source": [
        "url = 'https://es.wikipedia.org/wiki/Primera_Divisi%C3%B3n_de_Chile#Historial'\n",
        "\n",
        "tabla = pd.read_html(url)\n",
        "\n",
        "dato6 = tabla[6]\n",
        "\n",
        "df6 = pd.DataFrame(dato6)\n",
        "\n",
        "print(df6)\n",
        "\n",
        "df6.to_csv('dataframe6.csv', index=False)"
      ]
    },
    {
      "cell_type": "markdown",
      "metadata": {
        "id": "AI6OByt2XkN-"
      },
      "source": [
        "## Estadisticas Colo-Colo en Copa Libertadores"
      ]
    },
    {
      "cell_type": "code",
      "execution_count": 11,
      "metadata": {
        "colab": {
          "base_uri": "https://localhost:8080/"
        },
        "id": "YNzAnAUYXozs",
        "outputId": "c58d52be-bfbd-43af-c412-ab9a48ea9c45"
      },
      "outputs": [
        {
          "name": "stdout",
          "output_type": "stream",
          "text": [
            "                               Torneo              Pos.              PJ  \\\n",
            "0   Copa de Campeones de América 1961      Primera fase               2   \n",
            "1   Copa de Campeones de América 1964       Semifinales               6   \n",
            "2              Copa Libertadores 1967       Semifinales              18   \n",
            "3              Copa Libertadores 1971      Primera fase               6   \n",
            "4              Copa Libertadores 1973        Subcampeón              13   \n",
            "5              Copa Libertadores 1974      Primera fase               6   \n",
            "6              Copa Libertadores 1980      Primera fase               6   \n",
            "7              Copa Libertadores 1982      Primera fase               6   \n",
            "8              Copa Libertadores 1983      Primera fase               6   \n",
            "9              Copa Libertadores 1985      Primera fase               6   \n",
            "10             Copa Libertadores 1987      Primera fase               6   \n",
            "11             Copa Libertadores 1988      Segunda fase               8   \n",
            "12             Copa Libertadores 1989      Primera fase               6   \n",
            "13             Copa Libertadores 1990  Octavos de final               8   \n",
            "14             Copa Libertadores 1991           Campeón              14   \n",
            "15             Copa Libertadores 1992  Octavos de final              10   \n",
            "16             Copa Libertadores 1994  Octavos de final               8   \n",
            "17             Copa Libertadores 1997       Semifinales              12   \n",
            "18             Copa Libertadores 1998  Octavos de final               8   \n",
            "19             Copa Libertadores 1999  Octavos de final               8   \n",
            "20             Copa Libertadores 2003      Primera fase               6   \n",
            "21             Copa Libertadores 2004      Primera fase               6   \n",
            "22             Copa Libertadores 2005   Fase preliminar               2   \n",
            "23             Copa Libertadores 2006   Fase preliminar               2   \n",
            "24             Copa Libertadores 2007  Octavos de final               8   \n",
            "25             Copa Libertadores 2008      Primera fase               6   \n",
            "26             Copa Libertadores 2009      Primera fase               6   \n",
            "27             Copa Libertadores 2010      Primera fase               6   \n",
            "28             Copa Libertadores 2011      Primera fase               6   \n",
            "29             Copa Libertadores 2015      Primera fase               6   \n",
            "30             Copa Libertadores 2016      Primera fase               6   \n",
            "31             Copa Libertadores 2017      Primera fase               2   \n",
            "32             Copa Libertadores 2018  Cuartos de final              10   \n",
            "33             Copa Libertadores 2020      Primera fase               6   \n",
            "34             Copa Libertadores 2022      Primera fase               6   \n",
            "35             Copa Libertadores 2023      Primera fase               6   \n",
            "36             Copa Libertadores 2024    Por disputarse  Por disputarse   \n",
            "\n",
            "                PG              PE              PP              GF  \\\n",
            "0                1               0               1               4   \n",
            "1                3               0               3              13   \n",
            "2                8               2               8              33   \n",
            "3                2               2               2               6   \n",
            "4                5               5               3              28   \n",
            "5                0               0               6               3   \n",
            "6                2               2               2              11   \n",
            "7                3               2               1               8   \n",
            "8                3               0               3               5   \n",
            "9                3               0               3              10   \n",
            "10               2               3               1               6   \n",
            "11               4               2               2               8   \n",
            "12               2               1               3               7   \n",
            "13               3               4               1              12   \n",
            "14               7               5               2              22   \n",
            "15               3               4               3               7   \n",
            "16               4               3               1              14   \n",
            "17               8               1               3              23   \n",
            "18               2               2               4              11   \n",
            "19               3               2               3               6   \n",
            "20               1               2               3               6   \n",
            "21               2               0               4               6   \n",
            "22               0               2               0               2   \n",
            "23               0               0               2               4   \n",
            "24               4               0               4              14   \n",
            "25               3               1               2              11   \n",
            "26               2               1               3               9   \n",
            "27               2               2               2               8   \n",
            "28               3               0               3              15   \n",
            "29               3               0               3               8   \n",
            "30               2               3               1               4   \n",
            "31               0               1               1               2   \n",
            "32               3               2               5               7   \n",
            "33               2               0               4               3   \n",
            "34               2               1               3               9   \n",
            "35               1               3               2               3   \n",
            "36  Por disputarse  Por disputarse  Por disputarse  Por disputarse   \n",
            "\n",
            "                GC             Dif           Ptos.            Ref.  \n",
            "0                6              -2               2            [1]​  \n",
            "1               15              -2               6            [2]​  \n",
            "2               38              -5              18            [3]​  \n",
            "3                7              -1               6            [4]​  \n",
            "4               16              12              15            [5]​  \n",
            "5               13             -10               0            [6]​  \n",
            "6               11               0               6            [7]​  \n",
            "7                5               3               8            [8]​  \n",
            "8                8              -3               6            [9]​  \n",
            "9                8               2               6           [10]​  \n",
            "10               4               2               7           [11]​  \n",
            "11               5               3              10           [12]​  \n",
            "12               8              -1               5           [13]​  \n",
            "13               8               4              10           [14]​  \n",
            "14               8              14              19           [15]​  \n",
            "15               9              -2              10           [16]​  \n",
            "16               9               5              11           [17]​  \n",
            "17              13              10              25           [18]​  \n",
            "18              14              -3               8           [19]​  \n",
            "19               9              -3              11           [20]​  \n",
            "20              10              -4               5           [21]​  \n",
            "21              10              -4               6           [22]​  \n",
            "22               2               0               2           [23]​  \n",
            "23               8              -4               0           [24]​  \n",
            "24              11               3              12           [25]​  \n",
            "25               9               2              10           [26]​  \n",
            "26               7               2               7           [27]​  \n",
            "27              10              -2               8           [28]​  \n",
            "28              16              -1               9           [29]​  \n",
            "29               9              -1               9           [30]​  \n",
            "30               5              -1               9           [31]​  \n",
            "31               3              -1               1           [32]​  \n",
            "32              11              -4              11           [33]​  \n",
            "33               9              -6               6           [34]​  \n",
            "34              13              -4               7           [35]​  \n",
            "35               5              -2               6             NaN  \n",
            "36  Por disputarse  Por disputarse  Por disputarse  Por disputarse  \n"
          ]
        }
      ],
      "source": [
        "url = 'https://es.wikipedia.org/wiki/Anexo:Historial_del_Club_Social_y_Deportivo_Colo-Colo_en_competiciones_internacionales#Estad%C3%ADsticas_por_competici%C3%B3n'\n",
        "\n",
        "tabla = pd.read_html(url)\n",
        "\n",
        "dato7 = tabla[3]\n",
        "\n",
        "df7 = pd.DataFrame(dato7)\n",
        "\n",
        "print(df7)\n",
        "\n",
        "df7.to_csv('dataframe7.csv', index=False)"
      ]
    },
    {
      "cell_type": "markdown",
      "metadata": {
        "id": "dk7EfZ_zYeZD"
      },
      "source": [
        "## Estadisticas Colo-Colo en Copa Sudamericana"
      ]
    },
    {
      "cell_type": "code",
      "execution_count": 12,
      "metadata": {
        "colab": {
          "base_uri": "https://localhost:8080/"
        },
        "id": "6IsjFiHhYgsz",
        "outputId": "734f67f7-5aeb-46b6-f14c-7ed55128b834"
      },
      "outputs": [
        {
          "name": "stdout",
          "output_type": "stream",
          "text": [
            "                   Torneo                          Pos.  PJ  PG  PE  PP  GF  \\\n",
            "0  Copa Sudamericana 2006                    Subcampeón  12   8   1   3  28   \n",
            "1  Copa Sudamericana 2007              Octavos de final   6   1   5   0   7   \n",
            "2  Copa Sudamericana 2010                  Primera fase   2   1   0   1   3   \n",
            "3  Copa Sudamericana 2013                  Segunda fase   4   2   0   2   3   \n",
            "4  Copa Sudamericana 2019                  Primera fase   2   1   0   1   1   \n",
            "5  Copa Sudamericana 2022              Octavos de final   2   1   0   1   3   \n",
            "6  Copa Sudamericana 2023  Play-off de octavos de final   2   1   0   1   3   \n",
            "\n",
            "   GC  Dif  Ptos.   Ref.  \n",
            "0  12   16     25  [36]​  \n",
            "1   5    2      8  [37]​  \n",
            "2   3    0      3  [38]​  \n",
            "3   3    0      6  [39]​  \n",
            "4   1    0      3  [40]​  \n",
            "5   4   -1      3  [41]​  \n",
            "6   6   -3      3    NaN  \n"
          ]
        }
      ],
      "source": [
        "url = 'https://es.wikipedia.org/wiki/Anexo:Historial_del_Club_Social_y_Deportivo_Colo-Colo_en_competiciones_internacionales#Estad%C3%ADsticas_por_competici%C3%B3n'\n",
        "\n",
        "tabla = pd.read_html(url)\n",
        "\n",
        "dato8 = tabla[4]\n",
        "\n",
        "df8 = pd.DataFrame(dato8)\n",
        "\n",
        "print(df8)\n",
        "\n",
        "df8.to_csv('dataframe8.csv', index=False)"
      ]
    },
    {
      "cell_type": "markdown",
      "metadata": {
        "id": "s__33wBiYom5"
      },
      "source": [
        "## Estadisticas U de Chile en Copa Libertadores"
      ]
    },
    {
      "cell_type": "code",
      "execution_count": 13,
      "metadata": {
        "colab": {
          "base_uri": "https://localhost:8080/"
        },
        "id": "zzgxK4SnYsAR",
        "outputId": "93f1c2d1-010d-42a6-bfb5-7dbadb9a0ca5"
      },
      "outputs": [
        {
          "name": "stdout",
          "output_type": "stream",
          "text": [
            "                               Torneo                   Pos.  PJ  PG  PE  PP  \\\n",
            "0   Copa de Campeones de América 1960   Cuarto finalista[3]​   2   0   0   2   \n",
            "1   Copa de Campeones de América 1963       Primera fase[4]​   4   1   0   3   \n",
            "2              Copa Libertadores 1965       Primera fase[5]​   4   1   0   3   \n",
            "3              Copa Libertadores 1966       Primera fase[6]​   6   1   3   2   \n",
            "4              Copa Libertadores 1968       Primera fase[7]​   6   1   1   4   \n",
            "5              Copa Libertadores 1970          Semifinal[8]​  16   8   4   4   \n",
            "6              Copa Libertadores 1972       Primera fase[9]​   6   3   0   3   \n",
            "7              Copa Libertadores 1977      Primera fase[10]​   6   3   0   3   \n",
            "8              Copa Libertadores 1981      Primera fase[11]​   6   2   2   2   \n",
            "9              Copa Libertadores 1995      Primera fase[12]​   7   2   1   4   \n",
            "10             Copa Libertadores 1996         Semifinal[13]​  12   5   3   4   \n",
            "11             Copa Libertadores 2000      Primera fase[14]​   6   2   2   2   \n",
            "12             Copa Libertadores 2001      Primera fase[15]​   6   1   1   4   \n",
            "13             Copa Libertadores 2005  Octavo finalista[16]​   8   3   3   2   \n",
            "14             Copa Libertadores 2009  Octavo finalista[17]​  10   4   1   5   \n",
            "15             Copa Libertadores 2010         Semifinal[18]​  12   5   5   2   \n",
            "16             Copa Libertadores 2012         Semifinal[19]​  12   5   4   3   \n",
            "17             Copa Libertadores 2013    Fase de grupos[20]​   6   3   0   3   \n",
            "18             Copa Libertadores 2014   Fase de gruposs[21]​   8   5   1   2   \n",
            "19             Copa Libertadores 2015    Fase de grupos[22]​   6   1   0   5   \n",
            "20             Copa Libertadores 2016      Primera fase[23]​   2   0   1   1   \n",
            "21             Copa Libertadores 2018    Fase de grupos[24]​   6   1   2   3   \n",
            "22             Copa Libertadores 2019            Fase 2[25]​   2   0   1   1   \n",
            "23             Copa Libertadores 2020            Fase 2[26]​   2   0   1   1   \n",
            "24             Copa Libertadores 2021           Fase 2 [27]​   2   0   1   1   \n",
            "\n",
            "    GF  GC  Dif  Ptos. Rendimiento  \n",
            "0    0   7   -7      0          0%  \n",
            "1    7   7    0      2         25%  \n",
            "2    6   9   -3      2         25%  \n",
            "3    6   7   -1      5      41,67%  \n",
            "4    6  10   -4      3         25%  \n",
            "5   27  18    9     20      62,50%  \n",
            "6   12  12    0      6         50%  \n",
            "7    3   6   -3      6         50%  \n",
            "8    8   6    2      6         50%  \n",
            "9    8  11   -3      7      35,71%  \n",
            "10  16  15    1     18      54,17%  \n",
            "11  10  10    0      8         50%  \n",
            "12   5  13   -8      4         25%  \n",
            "13  11  13   -2     12      56,25%  \n",
            "14  11  11    0     13         45%  \n",
            "15  18  15    3     20      62,50%  \n",
            "16  20  14    6     19       52,7%  \n",
            "17   7   9   -2      9         50%  \n",
            "18  10  11   -1     16         65%  \n",
            "19   7  16   -9      3      16,67%  \n",
            "20   0   2   -2      1         25%  \n",
            "21   2   2   11     -9       27,7%  \n",
            "22   0   1   -1      1         25%  \n",
            "23   0   2   -2      1         25%  \n",
            "24   1   3   -2      1         25%  \n"
          ]
        }
      ],
      "source": [
        "url = 'https://es.wikipedia.org/wiki/Anexo:Historial_del_Club_Universidad_de_Chile_en_competiciones_internacionales'\n",
        "\n",
        "tabla = pd.read_html(url)\n",
        "\n",
        "dato9 = tabla[4]\n",
        "\n",
        "df9 = pd.DataFrame(dato9)\n",
        "\n",
        "print(df9)\n",
        "\n",
        "df9.to_csv('dataframe9.csv', index=False)"
      ]
    },
    {
      "cell_type": "markdown",
      "metadata": {
        "id": "nBkAxCHKZMCc"
      },
      "source": [
        "## Estadisticas U de Chile en Copa Sudamericana"
      ]
    },
    {
      "cell_type": "code",
      "execution_count": 14,
      "metadata": {
        "colab": {
          "base_uri": "https://localhost:8080/"
        },
        "id": "hvFLXmTGZOFJ",
        "outputId": "2e285c69-7bb7-49fc-cd0d-ff09226a309e"
      },
      "outputs": [
        {
          "name": "stdout",
          "output_type": "stream",
          "text": [
            "                   Torneo              Pos.  PJ  PG  PE  PP  GF  GC  Dif  \\\n",
            "0  Copa Sudamericana 2005      Primera fase   2   1   0   1   2   2    0   \n",
            "1  Copa Sudamericana 2009  Cuarto finalista   6   3   2   1   7   5    2   \n",
            "2  Copa Sudamericana 2010      Primera fase   2   0   1   1   2   3   -1   \n",
            "3  Copa Sudamericana 2011           Campeón  12  10   2   0  21   2   19   \n",
            "4  Copa Sudamericana 2012  Cuarto finalista   4   1   1   2   3   9   -6   \n",
            "5  Copa Sudamericana 2013  Octavo finalista   6   3   1   2  11   9   -2   \n",
            "6  Copa Sudamericana 2017      Primera fase   2   0   0   2   1   4   -3   \n",
            "\n",
            "   Ptos. Rendimiento  \n",
            "0      3         50%  \n",
            "1     11      66,67%  \n",
            "2      1         25%  \n",
            "3     32      91,67%  \n",
            "4      4         25%  \n",
            "5     10         45%  \n",
            "6      0          0%  \n"
          ]
        }
      ],
      "source": [
        "url = 'https://es.wikipedia.org/wiki/Anexo:Historial_del_Club_Universidad_de_Chile_en_competiciones_internacionales'\n",
        "\n",
        "tabla = pd.read_html(url)\n",
        "\n",
        "dato10 = tabla[7]\n",
        "\n",
        "df10 = pd.DataFrame(dato10)\n",
        "\n",
        "print(df10)\n",
        "\n",
        "df10.to_csv('dataframe10.csv', index=False)"
      ]
    }
  ],
  "metadata": {
    "colab": {
      "provenance": []
    },
    "kernelspec": {
      "display_name": "Python 3",
      "name": "python3"
    },
    "language_info": {
      "codemirror_mode": {
        "name": "ipython",
        "version": 3
      },
      "file_extension": ".py",
      "mimetype": "text/x-python",
      "name": "python",
      "nbconvert_exporter": "python",
      "pygments_lexer": "ipython3",
      "version": "3.11.9"
    }
  },
  "nbformat": 4,
  "nbformat_minor": 0
}
