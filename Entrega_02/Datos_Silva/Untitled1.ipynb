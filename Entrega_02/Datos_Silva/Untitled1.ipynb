{
  "cells": [
    {
      "cell_type": "markdown",
      "metadata": {
        "id": "m03mLXocUn0w"
      },
      "source": [
        "#Rendimiento Selección Chilena Sub-20 en Campeonatos Sudamericanos de la categoría desde 2007."
      ]
    },
    {
      "cell_type": "markdown",
      "metadata": {
        "id": "rqPAkBOMU6pA"
      },
      "source": [
        "-Estos datos son importantes para analizar el desempeño de las categorías juveniles nacionales a nivel sudamericano, además de demostrar el bajo nivel de estas."
      ]
    },
    {
      "cell_type": "markdown",
      "metadata": {
        "id": "eKlH7Ar-VKRg"
      },
      "source": [
        "###Campeonato Sudamericano Sub-20 2007"
      ]
    },
    {
      "cell_type": "code",
      "execution_count": null,
      "metadata": {
        "colab": {
          "base_uri": "https://localhost:8080/"
        },
        "id": "NkRcqi2VQUCb",
        "outputId": "f674f046-c7d3-4776-8f1a-caff014e1c6b"
      },
      "outputs": [
        {
          "name": "stdout",
          "output_type": "stream",
          "text": [
            "   Pos.  Selección Gr.  Pts.  PJ  PG  PE  PP  GF  GC  Dif\n",
            "0     1     Brasil   A    21   9   6   3   0  20  10   10\n",
            "1     2  Argentina   B    14   9   3   5   1  15   8    7\n",
            "2     3    Uruguay   B    14   9   4   2   3  13  11    2\n",
            "3     4      Chile   A    12   9   3   3   3  20  11    9\n",
            "4     5   Paraguay   A    14   9   4   2   3  10  10    0\n",
            "5     6   Colombia   B    10   9   3   1   5   7  15   -8\n",
            "6     7    Ecuador   B     4   4   1   1   2   5   5    0\n",
            "7     8    Bolivia   A     4   4   1   1   1   4   8   -4\n",
            "8     9  Venezuela   B     3   4   1   0   3   3  11   -8\n",
            "9    10       Perú   A     0   4   0   0   4   4  11   -7\n"
          ]
        }
      ],
      "source": [
        "url = \"https://es.wikipedia.org/wiki/Campeonato_Sudamericano_de_F%C3%BAtbol_Sub-20_de_2007\"\n",
        "\n",
        "tabla = pd.read_html(url)\n",
        "\n",
        "dato1 = tabla[43]\n",
        "\n",
        "df = pd.DataFrame(dato1)\n",
        "\n",
        "print(df)"
      ]
    },
    {
      "cell_type": "code",
      "execution_count": null,
      "metadata": {},
      "outputs": [],
      "source": [
        "df.to_csv('dataframe1.csv', index=false)"
      ]
    },
    {
      "cell_type": "markdown",
      "metadata": {
        "id": "45YN2OfSVddK"
      },
      "source": [
        "###Campeonato Sudamericano Sub-20 2009"
      ]
    },
    {
      "cell_type": "code",
      "execution_count": null,
      "metadata": {
        "colab": {
          "base_uri": "https://localhost:8080/"
        },
        "id": "Ks5iS_mWAX44",
        "outputId": "e1014357-9b64-4d9b-8cab-c3bdbaa31841"
      },
      "outputs": [
        {
          "name": "stdout",
          "output_type": "stream",
          "text": [
            "   Pos.  Selección Gr.  Pts.  PJ  PG  PE  PP  GF  GC  Dif\n",
            "0     1     Brasil   B    19   9   6   1   2  17   9    8\n",
            "1     2   Paraguay   B    15   9   4   3   2  18  12    7\n",
            "2     3    Uruguay   B    19   9   6   1   2  21  16    5\n",
            "3     4  Venezuela   A    13   9   3   4   2  11  12   -1\n",
            "4     5   Colombia   A    12   9   3   3   3   7  10   -3\n",
            "5     6  Argentina   A     8   9   1   5   3  10  14   -4\n",
            "6     7    Ecuador   A     6   4   1   3   0   4   3    1\n",
            "7     8      Chile   B     3   4   1   0   3   5   7   -2\n",
            "8     9       Perú   A     0   4   0   0   4   3   8   -5\n",
            "9    10    Bolivia   B     0   4   0   0   4   2  11   -9\n"
          ]
        }
      ],
      "source": [
        "import pandas as pd\n",
        "\n",
        "url = \"https://es.wikipedia.org/wiki/Campeonato_Sudamericano_de_F%C3%BAtbol_Sub-20_de_2009\"\n",
        "\n",
        "tabla = pd.read_html(url)\n",
        "\n",
        "dato2 = tabla[42]\n",
        "\n",
        "df2 = pd.DataFrame(dato2)\n",
        "\n",
        "print(df2)"
      ]
    },
    {
      "cell_type": "markdown",
      "metadata": {
        "id": "N-PwEwp5VpIO"
      },
      "source": [
        "###Campeonato Sudamericano Sub-20 2011"
      ]
    },
    {
      "cell_type": "code",
      "execution_count": null,
      "metadata": {
        "colab": {
          "base_uri": "https://localhost:8080/"
        },
        "id": "3rBeuvENMmTv",
        "outputId": "e9092e8f-a93d-4fae-c37f-deba4da95e24"
      },
      "outputs": [
        {
          "name": "stdout",
          "output_type": "stream",
          "text": [
            "   Pos.  Selección Gr.  Pts.  PJ  PG  PE  PP  GF  GC  Dif   Rend.\n",
            "0     1     Brasil   B    22   9   7   1   1  24   7  +17  81.48%\n",
            "1     2    Uruguay   A    14   9   4   2   3  10  15   -5  51.85%\n",
            "2     3  Argentina   A    19   9   6   1   2  15   9    6  70.37%\n",
            "3     4    Ecuador   B    15   9   4   3   2   8   5    3  55.56%\n",
            "4     5      Chile   A     9   9   3   0   6  12  19   -7  33.33%\n",
            "5     6   Colombia   B     6   9   1   3   5   8  16   -8  22.22%\n",
            "6     7       Perú   A     4   4   1   1   2   4   5   -1     50%\n",
            "7     8   Paraguay   B     4   4   1   1   2   6   8   –2  33.33%\n",
            "8     9  Venezuela   A     3   4   0   3   1   4   6   –2     25%\n",
            "9    10    Bolivia   B     1   4   0   1   3   3   7   –4      0%\n"
          ]
        }
      ],
      "source": [
        "import pandas as pd\n",
        "\n",
        "url = \"https://es.wikipedia.org/wiki/Campeonato_Sudamericano_de_F%C3%BAtbol_Sub-20_de_2011\"\n",
        "\n",
        "tabla = pd.read_html(url)\n",
        "\n",
        "dato2 = tabla[81]\n",
        "\n",
        "df2 = pd.DataFrame(dato2)\n",
        "\n",
        "print(dato2)"
      ]
    },
    {
      "cell_type": "markdown",
      "metadata": {
        "id": "AbJwWcS2VscG"
      },
      "source": [
        "###Campeonato Sudamericano Sub-20 2013"
      ]
    },
    {
      "cell_type": "code",
      "execution_count": null,
      "metadata": {
        "colab": {
          "base_uri": "https://localhost:8080/"
        },
        "id": "tdlaQhhZOXqE",
        "outputId": "c8c977df-6d1a-4dfc-a83f-ee90de42f819"
      },
      "outputs": [
        {
          "name": "stdout",
          "output_type": "stream",
          "text": [
            "      Equipo  Pts  PJ  PG  PE  PP  GF  GC  Dif\n",
            "0      Chile   12   4   4   0   0   8   3    5\n",
            "1   Colombia    6   4   2   0   2  10   5    5\n",
            "2   Paraguay    6   4   2   0   2   9   6    3\n",
            "3  Argentina    4   4   1   1   2   6   7   -1\n",
            "4    Bolivia    1   4   0   1   3   3  15  -12\n"
          ]
        }
      ],
      "source": [
        "url = \"https://es.wikipedia.org/wiki/Campeonato_Sudamericano_de_F%C3%BAtbol_Sub-20_de_2013\"\n",
        "\n",
        "tabla = pd.read_html(url)\n",
        "\n",
        "dato2 = tabla[3]\n",
        "\n",
        "df2 = pd.DataFrame(dato2)\n",
        "\n",
        "print(dato2)"
      ]
    },
    {
      "cell_type": "markdown",
      "metadata": {
        "id": "TGfsKIvFVwha"
      },
      "source": [
        "###Tabla Hexagonal final Campeonato Sudamericano Sub-20 2013"
      ]
    },
    {
      "cell_type": "code",
      "execution_count": null,
      "metadata": {
        "colab": {
          "base_uri": "https://localhost:8080/"
        },
        "id": "caxIxGeDPUH5",
        "outputId": "d05dd9a0-eb77-4588-f158-0e4b0a9c2f87"
      },
      "outputs": [
        {
          "name": "stdout",
          "output_type": "stream",
          "text": [
            "     Equipo  Pts  PJ  PG  PE  PP  GF  GC  Dif\n",
            "0  Colombia   12   5   4   0   1   6   3    3\n",
            "1  Paraguay   10   5   3   1   1   7   4    3\n",
            "2   Uruguay    9   5   3   0   2   5   3    2\n",
            "3     Chile    7   5   2   1   2   7   6    1\n",
            "4      Perú    5   5   1   2   2   6   8   -2\n",
            "5   Ecuador    0   5   0   0   5   4  11   -7\n"
          ]
        }
      ],
      "source": [
        "url = \"https://es.wikipedia.org/wiki/Campeonato_Sudamericano_de_F%C3%BAtbol_Sub-20_de_2013\"\n",
        "\n",
        "tabla = pd.read_html(url)\n",
        "\n",
        "dato2 = tabla[47]\n",
        "\n",
        "df2 = pd.DataFrame(dato2)\n",
        "\n",
        "print(dato2)"
      ]
    },
    {
      "cell_type": "markdown",
      "metadata": {
        "id": "MyeXHekGV9Wk"
      },
      "source": [
        "###Campeonato Sudamericano Sub-20 2015"
      ]
    },
    {
      "cell_type": "code",
      "execution_count": null,
      "metadata": {
        "colab": {
          "base_uri": "https://localhost:8080/"
        },
        "id": "p7zgaOm_QCrE",
        "outputId": "37028158-5811-4223-ac96-7f04c9a37f6a"
      },
      "outputs": [
        {
          "name": "stdout",
          "output_type": "stream",
          "text": [
            "   Pos.  Selección Gr.  Pts.  PJ  PG  PE  PP  GF  GC  Dif   Rend.\n",
            "0     1  Argentina   A    22   9   7   1   1  24   7  +17  81.48%\n",
            "1     2   Colombia   B    15   9   4   3   2  12   5   +7  55.56%\n",
            "2     3    Uruguay   B    17   9   5   2   2  15   5  +10  62.96%\n",
            "3     4     Brasil   B    16   9   5   1   3  13   9   +4  59.26%\n",
            "4     5       Perú   A    10   9   3   1   5  11  21  -10  37.04%\n",
            "5     6   Paraguay   A     8   9   2   2   5   8  15   -7  29.63%\n",
            "6     7    Ecuador   A     6   4   2   0   2   9   8    1     50%\n",
            "7     8  Venezuela   B     3   4   1   0   3   1   5   –4     25%\n",
            "8     9      Chile   B     3   4   1   0   3   4  11   –7     25%\n",
            "9    10    Bolivia   A     0   4   0   0   4   2  13  –11      0%\n"
          ]
        }
      ],
      "source": [
        "url = \"https://es.wikipedia.org/wiki/Campeonato_Sudamericano_de_F%C3%BAtbol_Sub-20_de_2015\"\n",
        "\n",
        "tabla = pd.read_html(url)\n",
        "\n",
        "dato2 = tabla[88]\n",
        "\n",
        "df2 = pd.DataFrame(dato2)\n",
        "\n",
        "print(dato2)"
      ]
    },
    {
      "cell_type": "markdown",
      "metadata": {
        "id": "qQRC-a0UWBLJ"
      },
      "source": [
        "###Campeonato Sudamericano Sub-20 2017"
      ]
    },
    {
      "cell_type": "code",
      "execution_count": null,
      "metadata": {
        "colab": {
          "base_uri": "https://localhost:8080/"
        },
        "id": "xGcr9de8QLQp",
        "outputId": "fd57abe7-8926-49dd-e685-76ef050b83b1"
      },
      "outputs": [
        {
          "name": "stdout",
          "output_type": "stream",
          "text": [
            "  Selección  Pts.  PJ  PG  PE  PP  GF  GC  Dif.\n",
            "0   Ecuador     7   4   2   1   1   7   6     1\n",
            "1  Colombia     7   4   2   1   1   6   5     1\n",
            "2    Brasil     7   4   2   1   1   4   3     1\n",
            "3  Paraguay     4   4   1   1   2   6   7    -1\n",
            "4     Chile     2   4   0   2   2   2   4    -2\n"
          ]
        }
      ],
      "source": [
        "url = \"https://es.wikipedia.org/wiki/Campeonato_Sudamericano_de_F%C3%BAtbol_Sub-20_de_2017\"\n",
        "\n",
        "tabla = pd.read_html(url)\n",
        "\n",
        "dato2 = tabla[6]\n",
        "\n",
        "df2 = pd.DataFrame(dato2)\n",
        "\n",
        "print(dato2)"
      ]
    },
    {
      "cell_type": "markdown",
      "metadata": {
        "id": "37WTI8MwWDmi"
      },
      "source": [
        "###Campeonato Sudamericano Sub-20 2019"
      ]
    },
    {
      "cell_type": "code",
      "execution_count": null,
      "metadata": {
        "colab": {
          "base_uri": "https://localhost:8080/"
        },
        "id": "TlU0K7LzQO3A",
        "outputId": "6e1e97d7-56eb-4153-8c91-053b2de418e3"
      },
      "outputs": [
        {
          "name": "stdout",
          "output_type": "stream",
          "text": [
            "        Equipo  PJ  PG  PE  PP  GF  GC  Dif  Pts\n",
            "0    1 Ecuador   9   6   1   2  14   6    8   19\n",
            "1  2 Argentina   9   5   1   3  10   6    4   16\n",
            "2    3 Uruguay   9   4   2   3  10   8    2   14\n",
            "3   4 Colombia   9   3   3   3   4   3    1   12\n",
            "4     5 Brasil   9   3   3   3   5   7   -2   12\n",
            "5  6 Venezuela   9   4   1   4   8  12   -4   13\n",
            "6      7 Chile   4   1   1   2   3   4   -1    4\n",
            "7   8 Paraguay   4   1   1   2   2   5   -3    4\n",
            "8       9 Perú   4   1   0   3   2   5   -3    3\n",
            "9   10 Bolivia   4   0   1   3   1   4   -3    1\n"
          ]
        }
      ],
      "source": [
        "url = \"https://es.wikipedia.org/wiki/Campeonato_Sudamericano_de_F%C3%BAtbol_Sub-20_de_2019\"\n",
        "\n",
        "tabla = pd.read_html(url)\n",
        "\n",
        "dato2 = tabla[82]\n",
        "\n",
        "df2 = pd.DataFrame(dato2)\n",
        "\n",
        "print(dato2)"
      ]
    },
    {
      "cell_type": "markdown",
      "metadata": {
        "id": "Xh5Af7QoWGn8"
      },
      "source": [
        "###Campeonato Sudamericano Sub-20 2023"
      ]
    },
    {
      "cell_type": "code",
      "execution_count": null,
      "metadata": {
        "colab": {
          "base_uri": "https://localhost:8080/"
        },
        "id": "pkPN6VjfQRT9",
        "outputId": "cc1fb036-6b28-4936-a5b0-7854466f4bde"
      },
      "outputs": [
        {
          "name": "stdout",
          "output_type": "stream",
          "text": [
            "     Selección  PJ  PG  PE  PP  GF  GC Dif.  Pts.\n",
            "0     1 Brasil   9   7   2   0  19   4  +15    23\n",
            "1    2 Uruguay   9   7   1   1  19   6  +13    22\n",
            "2   3 Colombia   9   5   3   1  11   5   +6    18\n",
            "3    4 Ecuador   9   2   3   4   8  11   –3     9\n",
            "4   5 Paraguay   9   2   2   5   7  13   –6     8\n",
            "5  6 Venezuela   9   2   2   5   6  15   –9     8\n",
            "6      7 Chile   4   1   1   2   2   5   –3     4\n",
            "7  8 Argentina   4   1   0   3   3   6   –3     3\n",
            "8    9 Bolivia   4   1   0   3   2   6   –4     3\n",
            "9      10 Perú   4   0   0   4   1   7   –6     0\n"
          ]
        }
      ],
      "source": [
        "url = \"https://es.wikipedia.org/wiki/Campeonato_Sudamericano_de_F%C3%BAtbol_Sub-20_de_2023\"\n",
        "\n",
        "tabla = pd.read_html(url)\n",
        "\n",
        "dato2 = tabla[47]\n",
        "\n",
        "df2 = pd.DataFrame(dato2)\n",
        "\n",
        "print(dato2)"
      ]
    },
    {
      "cell_type": "markdown",
      "metadata": {
        "id": "zjYJISyeWVuf"
      },
      "source": [
        "#Rendimiento Selección Chilena Sub-20 en Mundiales de la categoría."
      ]
    },
    {
      "cell_type": "code",
      "execution_count": null,
      "metadata": {
        "colab": {
          "base_uri": "https://localhost:8080/"
        },
        "id": "qwTNpBWYYVcr",
        "outputId": "69dce1f1-fe20-4a99-8abe-e99a6fe409a2"
      },
      "outputs": [
        {
          "name": "stdout",
          "output_type": "stream",
          "text": [
            "      Año             Ronda      Posición            PJ            PG  \\\n",
            "0    1977      No clasificó  No clasificó  No clasificó  No clasificó   \n",
            "1    1979      No clasificó  No clasificó  No clasificó  No clasificó   \n",
            "2    1981      No clasificó  No clasificó  No clasificó  No clasificó   \n",
            "3    1983      No clasificó  No clasificó  No clasificó  No clasificó   \n",
            "4    1985      No clasificó  No clasificó  No clasificó  No clasificó   \n",
            "5    1987      Cuarto lugar           4.º             6             3   \n",
            "6    1989      No clasificó  No clasificó  No clasificó  No clasificó   \n",
            "7    1991      No clasificó  No clasificó  No clasificó  No clasificó   \n",
            "8    1993      No clasificó  No clasificó  No clasificó  No clasificó   \n",
            "9    1995    Fase de grupos          13.º             3             0   \n",
            "10   1997      No clasificó  No clasificó  No clasificó  No clasificó   \n",
            "11   1999      No clasificó  No clasificó  No clasificó  No clasificó   \n",
            "12   2001    Fase de grupos          20.º             3             1   \n",
            "13   2003      No clasificó  No clasificó  No clasificó  No clasificó   \n",
            "14   2005  Octavos de final          15.º             4             1   \n",
            "15   2007      Tercer lugar           3.º             7             5   \n",
            "16   2009      No clasificó  No clasificó  No clasificó  No clasificó   \n",
            "17   2011      No clasificó  No clasificó  No clasificó  No clasificó   \n",
            "18   2013  Cuartos de final           6.º             5             2   \n",
            "19   2015      No clasificó  No clasificó  No clasificó  No clasificó   \n",
            "20   2017      No clasificó  No clasificó  No clasificó  No clasificó   \n",
            "21   2019      No clasificó  No clasificó  No clasificó  No clasificó   \n",
            "22   2023      No clasificó  No clasificó  No clasificó  No clasificó   \n",
            "23   2025       Clasificado   Clasificado   Clasificado   Clasificado   \n",
            "24  Total              7/23          19.º            28            12   \n",
            "\n",
            "              PE            PP            GF            GC  \\\n",
            "0   No clasificó  No clasificó  No clasificó  No clasificó   \n",
            "1   No clasificó  No clasificó  No clasificó  No clasificó   \n",
            "2   No clasificó  No clasificó  No clasificó  No clasificó   \n",
            "3   No clasificó  No clasificó  No clasificó  No clasificó   \n",
            "4   No clasificó  No clasificó  No clasificó  No clasificó   \n",
            "5              1             2             9             9   \n",
            "6   No clasificó  No clasificó  No clasificó  No clasificó   \n",
            "7   No clasificó  No clasificó  No clasificó  No clasificó   \n",
            "8   No clasificó  No clasificó  No clasificó  No clasificó   \n",
            "9              2             1             6             9   \n",
            "10  No clasificó  No clasificó  No clasificó  No clasificó   \n",
            "11  No clasificó  No clasificó  No clasificó  No clasificó   \n",
            "12             0             2             4             8   \n",
            "13  No clasificó  No clasificó  No clasificó  No clasificó   \n",
            "14             0             3             7            11   \n",
            "15             1             1            12             3   \n",
            "16  No clasificó  No clasificó  No clasificó  No clasificó   \n",
            "17  No clasificó  No clasificó  No clasificó  No clasificó   \n",
            "18             1             2             9             8   \n",
            "19  No clasificó  No clasificó  No clasificó  No clasificó   \n",
            "20  No clasificó  No clasificó  No clasificó  No clasificó   \n",
            "21  No clasificó  No clasificó  No clasificó  No clasificó   \n",
            "22  No clasificó  No clasificó  No clasificó  No clasificó   \n",
            "23   Clasificado   Clasificado   Clasificado   Clasificado   \n",
            "24             5            11            47            48   \n",
            "\n",
            "                              Goleador  \n",
            "0                         No clasificó  \n",
            "1                         No clasificó  \n",
            "2                         No clasificó  \n",
            "3                         No clasificó  \n",
            "4                         No clasificó  \n",
            "5                              Pino: 5  \n",
            "6                         No clasificó  \n",
            "7                         No clasificó  \n",
            "8                         No clasificó  \n",
            "9                          Rozental: 4  \n",
            "10                        No clasificó  \n",
            "11                        No clasificó  \n",
            "12  Millar, Pardo, Valdés y Berríos: 1  \n",
            "13                        No clasificó  \n",
            "14              Parada y Fuenzalida: 2  \n",
            "15   Medina, Vidal, Grondona e Isla: 2  \n",
            "16                        No clasificó  \n",
            "17                        No clasificó  \n",
            "18                         Castillo: 4  \n",
            "19                        No clasificó  \n",
            "20                        No clasificó  \n",
            "21                        No clasificó  \n",
            "22                        No clasificó  \n",
            "23                         Clasificado  \n",
            "24                             Pino: 5  \n"
          ]
        }
      ],
      "source": [
        "url = \"https://es.wikipedia.org/wiki/Selecci%C3%B3n_de_f%C3%BAtbol_sub-20_de_Chile#Copa_Mundial_de_F%C3%BAtbol_Sub-20\"\n",
        "\n",
        "tabla = pd.read_html(url)\n",
        "\n",
        "dato2 = tabla[42]\n",
        "\n",
        "df2 = pd.DataFrame(dato2)\n",
        "\n",
        "print(dato2)"
      ]
    }
  ],
  "metadata": {
    "colab": {
      "provenance": []
    },
    "kernelspec": {
      "display_name": "Python 3",
      "name": "python3"
    },
    "language_info": {
      "name": "python"
    }
  },
  "nbformat": 4,
  "nbformat_minor": 0
}
