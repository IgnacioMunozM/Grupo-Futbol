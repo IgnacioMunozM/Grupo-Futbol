{
  "cells": [
    {
      "cell_type": "code",
      "execution_count": 1,
      "metadata": {
        "id": "L5bX4ZcYPFvG"
      },
      "outputs": [],
      "source": [
        "import pandas as pd"
      ]
    },
    {
      "cell_type": "code",
      "execution_count": 2,
      "metadata": {
        "id": "0T-wBMlAPzoC"
      },
      "outputs": [],
      "source": [
        "import csv"
      ]
    },
    {
      "cell_type": "markdown",
      "metadata": {
        "id": "o1Qs6X28P5Ka"
      },
      "source": [
        "# Datos Grupo de Fútbol\n",
        "### Cristóbal Navarro Prelle\n"
      ]
    },
    {
      "cell_type": "markdown",
      "metadata": {
        "id": "sLeIB5beVGdZ"
      },
      "source": [
        "## Rendimiento de Chile en las eliminatorias 2010"
      ]
    },
    {
      "cell_type": "code",
      "execution_count": 3,
      "metadata": {
        "colab": {
          "base_uri": "https://localhost:8080/"
        },
        "id": "4B-Uhnt8Ur0M",
        "outputId": "76cd27da-d701-4ccb-8910-5c626a6716e3"
      },
      "outputs": [
        {
          "name": "stdout",
          "output_type": "stream",
          "text": [
            "   Pos.     Equipo  Pts  PJ  PG  PE  PP  GF  GC  Dif\n",
            "0   1.0     Brasil   34  18   9   7   2  33  11  +22\n",
            "1   2.0      Chile   33  18  10   3   5  32  22  +10\n",
            "2   3.0   Paraguay   33  18  10   3   5  24  16   +8\n",
            "3   4.0  Argentina   28  18   8   4   6  23  20   +3\n",
            "4   5.0    Uruguay   24  18   6   6   6  28  20   +8\n",
            "5   6.0    Ecuador   23  18   6   5   7  22  26   –4\n",
            "6   7.0   Colombia   23  18   6   5   7  14  18   –4\n",
            "7   8.0  Venezuela   22  18   6   4   8  23  29   –6\n",
            "8   9.0    Bolivia   15  18   4   3  11  22  36  –14\n",
            "9  10.0       Perú   13  18   3   4  11  11  34  –23\n"
          ]
        }
      ],
      "source": [
        "url = 'https://es.wikipedia.org/wiki/Clasificaci%C3%B3n_de_Conmebol_para_la_Copa_Mundial_de_F%C3%BAtbol_de_2010'\n",
        "\n",
        "tabla = pd.read_html(url)\n",
        "\n",
        "dato = tabla[5]\n",
        "\n",
        "df = pd.DataFrame(dato)\n",
        "\n",
        "print(df)"
      ]
    },
    {
      "cell_type": "code",
      "execution_count": 4,
      "metadata": {},
      "outputs": [],
      "source": [
        "df.to_csv('dataframe1.csv', index=False)"
      ]
    },
    {
      "cell_type": "markdown",
      "metadata": {
        "id": "WbQzPGEOYpLv"
      },
      "source": [
        "## Rendimiento de Chile en las eliminatorias 2014"
      ]
    },
    {
      "cell_type": "code",
      "execution_count": 6,
      "metadata": {
        "colab": {
          "base_uri": "https://localhost:8080/"
        },
        "id": "5wc_1vSNY4O2",
        "outputId": "395b3194-5e29-4776-adf8-c96fe0339ba3"
      },
      "outputs": [
        {
          "name": "stdout",
          "output_type": "stream",
          "text": [
            "   Pos.  Selección  Pts  PJ  PG  PE  PP  GF  GC  Dif.\n",
            "0   1.0  Argentina   32  16   9   5   2  35  15    20\n",
            "1   2.0   Colombia   30  16   9   3   4  27  13    14\n",
            "2   3.0      Chile   28  16   9   1   6  29  25     4\n",
            "3   4.0    Ecuador   25  16   7   4   5  20  16     4\n",
            "4   5.0    Uruguay   25  16   7   4   5  25  25     0\n",
            "5   6.0  Venezuela   20  16   5   5   6  14  20    -6\n",
            "6   7.0       Perú   15  16   4   3   9  17  26    -9\n",
            "7   8.0    Bolivia   12  16   2   6   8  17  30   -13\n",
            "8   9.0   Paraguay   12  16   3   3  10  17  31   -14\n"
          ]
        }
      ],
      "source": [
        "url2 = 'https://es.wikipedia.org/wiki/Clasificaci%C3%B3n_de_Conmebol_para_la_Copa_Mundial_de_F%C3%BAtbol_de_2014'\n",
        "\n",
        "tabla2 = pd.read_html(url2)\n",
        "\n",
        "dato2 = tabla2[5]\n",
        "\n",
        "df2 = pd.DataFrame(dato2)\n",
        "\n",
        "print(df2)"
      ]
    },
    {
      "cell_type": "code",
      "execution_count": 7,
      "metadata": {},
      "outputs": [],
      "source": [
        "df2.to_csv('dataframe2.csv', index=False)"
      ]
    },
    {
      "cell_type": "markdown",
      "metadata": {
        "id": "0lr_wMU5ZGMq"
      },
      "source": [
        "## Rendimiento de Chile en las eliminatorias 2018"
      ]
    },
    {
      "cell_type": "code",
      "execution_count": 8,
      "metadata": {
        "colab": {
          "base_uri": "https://localhost:8080/"
        },
        "id": "_gm42dBmZKtt",
        "outputId": "69d80707-6a06-4324-ceeb-3cc917a8bdba"
      },
      "outputs": [
        {
          "name": "stdout",
          "output_type": "stream",
          "text": [
            "   Pos.  Selección  Pts.  PJ  PG  PE  PP  GF  GC Dif.\n",
            "0   1.0     Brasil    41  18  12   5   1  41  11  +30\n",
            "1   2.0    Uruguay    31  18   9   4   5  32  20  +12\n",
            "2   3.0  Argentina    28  18   7   7   4  19  16   +3\n",
            "3   4.0   Colombia    27  18   7   6   5  21  19   +2\n",
            "4   5.0       Perú    26  18   7   5   6  27  26   +1\n",
            "5   6.0      Chile    26  18   8   2   8  26  27   −1\n",
            "6   7.0   Paraguay    24  18   7   3   8  19  25   −6\n",
            "7   8.0    Ecuador    20  18   6   2  10  26  29   −3\n",
            "8   9.0    Bolivia    14  18   4   2  12  16  38  −22\n",
            "9  10.0  Venezuela    12  18   2   6  10  19  35  −16\n"
          ]
        }
      ],
      "source": [
        "url3 = 'https://es.wikipedia.org/wiki/Clasificaci%C3%B3n_de_Conmebol_para_la_Copa_Mundial_de_F%C3%BAtbol_de_2018'\n",
        "\n",
        "tabla3 = pd.read_html(url3)\n",
        "\n",
        "dato3 = tabla3[9]\n",
        "\n",
        "df3 = pd.DataFrame(dato3)\n",
        "\n",
        "print(df3)"
      ]
    },
    {
      "cell_type": "code",
      "execution_count": 9,
      "metadata": {},
      "outputs": [],
      "source": [
        "df3.to_csv('dataframe3.csv', index=False)"
      ]
    },
    {
      "cell_type": "markdown",
      "metadata": {
        "id": "qELCFkDAbUqc"
      },
      "source": [
        "## Rendimiento de Chile en las eliminatorias 2022"
      ]
    },
    {
      "cell_type": "code",
      "execution_count": 10,
      "metadata": {
        "colab": {
          "base_uri": "https://localhost:8080/"
        },
        "id": "POEsjYE1bZDI",
        "outputId": "e37c7a25-d07b-4f9b-86be-41a09ec81d4b"
      },
      "outputs": [
        {
          "name": "stdout",
          "output_type": "stream",
          "text": [
            "     0    1    2    3    4    5    6    7    8    9    10\n",
            "0   L\\V  NaN  NaN  NaN  NaN  NaN  NaN  NaN  NaN  NaN  NaN\n",
            "1   NaN  NaN  3:0  0:0  1:1  1:0  1:0  1:1  1:0  3:0  3:0\n",
            "2   NaN  1:2  NaN  0:4  2:3  1:1  2:3  4:0  1:0  3:0  3:1\n",
            "3   NaN    :  5:0  NaN  4:0  1:0  2:0  4:0  2:0  4:1  1:0\n",
            "4   NaN  1:2  1:1  0:1  NaN  2:2  0:2  2:0  2:0  0:2  3:0\n",
            "5   NaN  2:2  3:0  0:0  3:1  NaN  0:0  0:0  0:1  0:3  3:0\n",
            "6   NaN  1:1  3:0  1:1  0:0  6:1  NaN  2:0  1:2  4:2  1:0\n",
            "7   NaN  0:0  2:2  0:2  0:1  1:1  3:1  NaN  2:2  0:1  2:1\n",
            "8   NaN  0:2  3:0  2:4  2:0  0:3  1:1  2:0  NaN  1:1  1:0\n",
            "9   NaN  0:1  4:2  0:2  2:1  0:0  1:0  0:0  1:0  NaN  4:1\n",
            "10  NaN  1:3  4:1  1:3  2:1  0:1  2:1  0:1  1:2  0:0  NaN\n"
          ]
        }
      ],
      "source": [
        "url4 = 'https://es.wikipedia.org/wiki/Clasificaci%C3%B3n_de_Conmebol_para_la_Copa_Mundial_de_F%C3%BAtbol_de_2022'\n",
        "\n",
        "tabla4 = pd.read_html(url4)\n",
        "\n",
        "dato4 = tabla4[9]\n",
        "\n",
        "df4 = pd.DataFrame(dato4)\n",
        "\n",
        "print(df4)"
      ]
    },
    {
      "cell_type": "code",
      "execution_count": 11,
      "metadata": {},
      "outputs": [],
      "source": [
        "df4.to_csv('dataframe4.csv', index=False)"
      ]
    },
    {
      "cell_type": "markdown",
      "metadata": {
        "id": "NX2rUmezdBau"
      },
      "source": [
        "Se analizaron y establecieron los datos del rendimiento de Chile para considerar como terminó la Selección desde que llegaron al fútbol chileno las Sociedades Anónimas Deportivas. Con esto, se busca demostrar la baja del rendimiento de Chile a nivel de selecciones en Sudamérica."
      ]
    },
    {
      "cell_type": "markdown",
      "metadata": {
        "id": "sfmyHHBCcRDy"
      },
      "source": [
        "## Rendimiento de Chile en Copas América post llegada de las S.A.D"
      ]
    },
    {
      "cell_type": "code",
      "execution_count": 12,
      "metadata": {
        "colab": {
          "base_uri": "https://localhost:8080/"
        },
        "id": "0pXYDBegcXLN",
        "outputId": "b18016b8-e033-4047-85d0-56967c5deb0e"
      },
      "outputs": [
        {
          "name": "stdout",
          "output_type": "stream",
          "text": [
            "  Edición         Resultado Partidos Ganados Partidos Empatados  \\\n",
            "0    2007  Cuartos de Final                1                  1   \n",
            "1    2011  Cuartos de Final                2                  1   \n",
            "2    2015           Campeón                4                  2   \n",
            "3    2016           Campeón                4                  1   \n",
            "4    2019         Semifinal                2                  1   \n",
            "5    2021  Cuartos de Final                1                  2   \n",
            "\n",
            "  Partidos Perdidos Goles Convertidos Goles Recibidos  \n",
            "0                 2                 4              11  \n",
            "1                 1                 5               4  \n",
            "2                 0                13               4  \n",
            "3                 1                16               5  \n",
            "4                 3                 7               7  \n",
            "5                 3                 5               3  \n"
          ]
        }
      ],
      "source": [
        "data = {\n",
        "    'Edición': ['2007', '2011', '2015', '2016', '2019', '2021'],\n",
        "    'Resultado': ['Cuartos de Final', 'Cuartos de Final', 'Campeón', 'Campeón', 'Semifinal', 'Cuartos de Final'],\n",
        "    'Partidos Ganados': ['1', '2', '4', '4', '2', '1'],\n",
        "    'Partidos Empatados': ['1', '1', '2', '1', '1', '2'],\n",
        "    'Partidos Perdidos': ['2', '1', '0', '1', '3', '3'],\n",
        "    'Goles Convertidos': ['4', '5', '13', '16', '7', '5'],\n",
        "    'Goles Recibidos': ['11', '4', '4', '5', '7', '3']\n",
        "}\n",
        "\n",
        "dato5 = pd.DataFrame(data)\n",
        "\n",
        "df5 = pd.DataFrame(dato5)\n",
        "\n",
        "print(df5)"
      ]
    },
    {
      "cell_type": "code",
      "execution_count": 13,
      "metadata": {},
      "outputs": [],
      "source": [
        "df5.to_csv('dataframe5.csv', index=False)"
      ]
    },
    {
      "cell_type": "markdown",
      "metadata": {
        "id": "z1G2ejjve6m-"
      },
      "source": [
        "La Copa América es la competición más importante de la región sudamericana a nivel de selección. Es por esto que seleccionamos esta base de datos para analizar el rendimiento de la selección. En base a esto, se puede ver que a pesar de haber sido campeones en dos ediciones consecutivas, no existe una mejora en el rendimiento a nivel regional y solo fue un algo momentáneo."
      ]
    },
    {
      "cell_type": "markdown",
      "metadata": {
        "id": "6CZTLBSvkLPf"
      },
      "source": [
        "## Asistencia promedio a los estadios desde el 2010"
      ]
    },
    {
      "cell_type": "code",
      "execution_count": 14,
      "metadata": {
        "colab": {
          "base_uri": "https://localhost:8080/"
        },
        "id": "hYVkmy95qVxz",
        "outputId": "ad7eceb8-d216-4f6a-d458-40f2259d54d5"
      },
      "outputs": [
        {
          "name": "stdout",
          "output_type": "stream",
          "text": [
            "     Año Asistencia Promedio\n",
            "0   2010               5.250\n",
            "1   2011               5.535\n",
            "2   2012               5.392\n",
            "3   2013               5.962\n",
            "4   2014               5.137\n",
            "5   2015               4.747\n",
            "6   2016               5.057\n",
            "7   2017               8.076\n",
            "8   2018               7.152\n",
            "9   2019               6.919\n",
            "10  2020               4.503\n",
            "11  2021               5.386\n",
            "12  2022               6.402\n",
            "13  2023               7.121\n"
          ]
        }
      ],
      "source": [
        "data = {\n",
        "    'Año': ['2010', '2011', '2012', '2013', '2014', '2015', '2016', '2017', '2018', '2019', '2020', '2021', '2022', '2023'],\n",
        "    'Asistencia Promedio': ['5.250', '5.535', '5.392', '5.962', '5.137', '4.747', '5.057', '8.076', '7.152', '6.919', '4.503', '5.386', '6.402', '7.121' ]\n",
        "}\n",
        "\n",
        "dato6 = pd.DataFrame(data)\n",
        "\n",
        "df6 = pd.DataFrame(dato6)\n",
        "\n",
        "print(df6)"
      ]
    },
    {
      "cell_type": "code",
      "execution_count": 15,
      "metadata": {},
      "outputs": [],
      "source": [
        "df6.to_csv('dataframe6.csv', index=False)"
      ]
    },
    {
      "cell_type": "markdown",
      "metadata": {
        "id": "l_-hhuxPsrgk"
      },
      "source": [
        "La intención de demostrar la cantidad de gente en los estadios, es para comprobar la falta de interés de la gente en asistir a estos eventos deportivos. Donde solamente gracias a los equipos grandes, como Colo-Colo ya la Universidad de Chile, el promedio de asistencia es mayor a lo que sería sin estos dos equipos quienes convocan a una mayor cantidad de personas."
      ]
    }
  ],
  "metadata": {
    "colab": {
      "provenance": []
    },
    "kernelspec": {
      "display_name": "Python 3",
      "name": "python3"
    },
    "language_info": {
      "codemirror_mode": {
        "name": "ipython",
        "version": 3
      },
      "file_extension": ".py",
      "mimetype": "text/x-python",
      "name": "python",
      "nbconvert_exporter": "python",
      "pygments_lexer": "ipython3",
      "version": "3.11.9"
    }
  },
  "nbformat": 4,
  "nbformat_minor": 0
}
